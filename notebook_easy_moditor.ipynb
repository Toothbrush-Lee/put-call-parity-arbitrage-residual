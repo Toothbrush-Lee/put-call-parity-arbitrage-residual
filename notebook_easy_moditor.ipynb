{
 "cells": [
  {
   "cell_type": "code",
   "execution_count": null,
   "id": "e0a10da2",
   "metadata": {},
   "outputs": [],
   "source": [
    "# 导入必备的软件包\n",
    "import pandas as pd \n",
    "import numpy as np\n",
    "import matplotlib.pyplot as plt\n",
    "from auto_fetch_future_data import *"
   ]
  },
  {
   "cell_type": "code",
   "execution_count": null,
   "id": "2fbe2435",
   "metadata": {},
   "outputs": [],
   "source": [
    "# 登录同花顺数据接口，用户名密码同iFind客户端，如果登录失败请尝试运行登出命令\n",
    "THS_iFinDLogout()\n",
    "username = \"glzqgf076\" \n",
    "password = \"SkTbcgR7\"\n",
    "thslogin(username,password)"
   ]
  },
  {
   "cell_type": "code",
   "execution_count": null,
   "id": "742784c2",
   "metadata": {},
   "outputs": [],
   "source": [
    "splist = [1850,1900,1950]\n",
    "ETFName = \"创业板ETF\"\n",
    "maturityMonth = 6\n",
    "\n",
    "for sp in splist:\n",
    "    df = download_future_data(ETFName=ETFName,strikePrice=sp,maturityMonth=6,csvOutput=True)\n",
    "    plt.plot(df['time'],df['C-P+K-S'])\n",
    "    # plt.legend()"
   ]
  },
  {
   "cell_type": "code",
   "execution_count": null,
   "id": "eb505d49",
   "metadata": {},
   "outputs": [],
   "source": [
    "# 为避免下次运行时接口错误，处理结束时建议登出同花顺账号\n",
    "THS_iFinDLogout()"
   ]
  }
 ],
 "metadata": {
  "kernelspec": {
   "display_name": "Fin",
   "language": "python",
   "name": "python3"
  },
  "language_info": {
   "codemirror_mode": {
    "name": "ipython",
    "version": 3
   },
   "file_extension": ".py",
   "mimetype": "text/x-python",
   "name": "python",
   "nbconvert_exporter": "python",
   "pygments_lexer": "ipython3",
   "version": "3.13.3"
  }
 },
 "nbformat": 4,
 "nbformat_minor": 5
}
